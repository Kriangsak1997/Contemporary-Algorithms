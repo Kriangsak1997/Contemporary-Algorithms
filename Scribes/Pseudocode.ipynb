{
 "cells": [
  {
   "cell_type": "markdown",
   "metadata": {},
   "source": [
    "def CP_par(X,Y):\n",
    "    A = an array of length min(X,Y)\n",
    "    pfor i in range(min(X,Y))\n",
    "    A[i] = map(*(X,Y): if x<y => -1, x=y => 0 else 1)\n",
    "    #then apply scan on collection A\n",
    "    if A[i] =0, look up for A[i+1]\n",
    "    #do this until we find the first A[i+1] !=0 then \n",
    "    return A[i+1]"
   ]
  },
  {
   "cell_type": "code",
   "execution_count": null,
   "metadata": {},
   "outputs": [],
   "source": []
  }
 ],
 "metadata": {
  "kernelspec": {
   "display_name": "Python 3",
   "language": "python",
   "name": "python3"
  },
  "language_info": {
   "codemirror_mode": {
    "name": "ipython",
    "version": 3
   },
   "file_extension": ".py",
   "mimetype": "text/x-python",
   "name": "python",
   "nbconvert_exporter": "python",
   "pygments_lexer": "ipython3",
   "version": "3.7.4"
  }
 },
 "nbformat": 4,
 "nbformat_minor": 4
}
